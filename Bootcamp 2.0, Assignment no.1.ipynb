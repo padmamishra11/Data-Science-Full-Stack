{
 "cells": [
  {
   "cell_type": "raw",
   "id": "c54151c6",
   "metadata": {},
   "source": [
    "1. Find out all the types of error that we have encountered in our lecture, with examples.\n",
    "Types of errors: when the variables aren't assigned correctly like using a special character as a variable\n",
    "when the syntax for string \"\" isn't following correctly, when trying to x,/,+,- two different types of variables like integer to string, since input always gives a string value, not correcting it for further steps can give an error, while doing the new way of print(f\"..{}..\"), not filling in the curly bracket and so on. "
   ]
  },
  {
   "cell_type": "raw",
   "id": "ca29c9bc",
   "metadata": {},
   "source": [
    "2. Take input of the users A and B and print their Sum, Multiplication, division, square of the numbers."
   ]
  },
  {
   "cell_type": "code",
   "execution_count": 1,
   "id": "d2e3317a",
   "metadata": {},
   "outputs": [],
   "source": [
    "a=45"
   ]
  },
  {
   "cell_type": "code",
   "execution_count": 2,
   "id": "83414e71",
   "metadata": {},
   "outputs": [],
   "source": [
    "b=66"
   ]
  },
  {
   "cell_type": "code",
   "execution_count": 3,
   "id": "cb7ca9d4",
   "metadata": {},
   "outputs": [],
   "source": [
    "c= a+b"
   ]
  },
  {
   "cell_type": "code",
   "execution_count": 4,
   "id": "f7c22265",
   "metadata": {},
   "outputs": [],
   "source": [
    "d=a*b"
   ]
  },
  {
   "cell_type": "code",
   "execution_count": 5,
   "id": "3fcd7d0a",
   "metadata": {},
   "outputs": [],
   "source": [
    "e=a/b"
   ]
  },
  {
   "cell_type": "code",
   "execution_count": 7,
   "id": "f728b875",
   "metadata": {},
   "outputs": [],
   "source": [
    "f=a**2"
   ]
  },
  {
   "cell_type": "code",
   "execution_count": 8,
   "id": "5d14134c",
   "metadata": {},
   "outputs": [],
   "source": [
    "g=b**2"
   ]
  },
  {
   "cell_type": "code",
   "execution_count": 9,
   "id": "c4724f0e",
   "metadata": {},
   "outputs": [
    {
     "name": "stdout",
     "output_type": "stream",
     "text": [
      "The sum of a: 45 and b:66 is 111\n"
     ]
    }
   ],
   "source": [
    "print(f\"The sum of a: {a} and b:{b} is {c}\")"
   ]
  },
  {
   "cell_type": "code",
   "execution_count": 11,
   "id": "cb61061b",
   "metadata": {},
   "outputs": [
    {
     "name": "stdout",
     "output_type": "stream",
     "text": [
      "The product of a:45 and b:66 is 2970\n"
     ]
    }
   ],
   "source": [
    "print(f\"The product of a:{a} and b:{b} is {d}\")"
   ]
  },
  {
   "cell_type": "code",
   "execution_count": 12,
   "id": "3c8edd7d",
   "metadata": {},
   "outputs": [
    {
     "name": "stdout",
     "output_type": "stream",
     "text": [
      "The division value of a:45 and b:66 is 0.6818181818181818\n"
     ]
    }
   ],
   "source": [
    "print(f\"The division value of a:{a} and b:{b} is {e}\")"
   ]
  },
  {
   "cell_type": "code",
   "execution_count": 13,
   "id": "6e8e4e8d",
   "metadata": {},
   "outputs": [
    {
     "name": "stdout",
     "output_type": "stream",
     "text": [
      "The square of a:45 is 2025\n"
     ]
    }
   ],
   "source": [
    "print(f\"The square of a:{a} is {f}\")"
   ]
  },
  {
   "cell_type": "code",
   "execution_count": 14,
   "id": "27a9cea7",
   "metadata": {},
   "outputs": [
    {
     "name": "stdout",
     "output_type": "stream",
     "text": [
      "The square of b:66 is 4356\n"
     ]
    }
   ],
   "source": [
    "print(f\"The square of b:{b} is {g}\")"
   ]
  },
  {
   "cell_type": "raw",
   "id": "164dc8e4",
   "metadata": {},
   "source": [
    "3. How many reserved keyqords are there and why we should not use them as variable names?\n",
    "Ans: There are numerous reserved keywords for instance, print, int, input, float, type, import, bool, etc. if used as a variable, it will be confusing. "
   ]
  },
  {
   "cell_type": "code",
   "execution_count": 56,
   "id": "708aed2e",
   "metadata": {},
   "outputs": [],
   "source": [
    "a = 1"
   ]
  },
  {
   "cell_type": "code",
   "execution_count": 16,
   "id": "53e42bd7",
   "metadata": {},
   "outputs": [],
   "source": [
    "type = 45"
   ]
  },
  {
   "cell_type": "code",
   "execution_count": 55,
   "id": "da785cd5",
   "metadata": {},
   "outputs": [
    {
     "data": {
      "text/plain": [
       "45"
      ]
     },
     "execution_count": 55,
     "metadata": {},
     "output_type": "execute_result"
    }
   ],
   "source": [
    "a*type"
   ]
  },
  {
   "cell_type": "code",
   "execution_count": 54,
   "id": "c5ff3c05",
   "metadata": {},
   "outputs": [
    {
     "data": {
      "text/plain": [
       "0.022222222222222223"
      ]
     },
     "execution_count": 54,
     "metadata": {},
     "output_type": "execute_result"
    }
   ],
   "source": [
    "a/type"
   ]
  },
  {
   "cell_type": "code",
   "execution_count": 27,
   "id": "d44a7e6f",
   "metadata": {},
   "outputs": [
    {
     "data": {
      "text/plain": [
       "True"
      ]
     },
     "execution_count": 27,
     "metadata": {},
     "output_type": "execute_result"
    }
   ],
   "source": [
    "bool(type) "
   ]
  },
  {
   "cell_type": "raw",
   "id": "f4c8fc3d",
   "metadata": {},
   "source": [
    "4.Create email ids with user inputs in the following format: lastname.firstname@gmail.com"
   ]
  },
  {
   "cell_type": "code",
   "execution_count": 1,
   "id": "33db1d95",
   "metadata": {},
   "outputs": [
    {
     "name": "stdout",
     "output_type": "stream",
     "text": [
      "Firstname: Padma \n"
     ]
    }
   ],
   "source": [
    "firstname= input (\"Firstname: \")"
   ]
  },
  {
   "cell_type": "code",
   "execution_count": 2,
   "id": "d94f5380",
   "metadata": {},
   "outputs": [
    {
     "name": "stdout",
     "output_type": "stream",
     "text": [
      "Lastname: Mishra\n"
     ]
    }
   ],
   "source": [
    "lastname = input (\"Lastname: \")"
   ]
  },
  {
   "cell_type": "code",
   "execution_count": 3,
   "id": "13c9e602",
   "metadata": {},
   "outputs": [
    {
     "name": "stdout",
     "output_type": "stream",
     "text": [
      "My email address is: Mishra.Padma @gmail.com\n"
     ]
    }
   ],
   "source": [
    "print(f\"My email address is: {lastname}.{firstname}@gmail.com\")"
   ]
  },
  {
   "cell_type": "raw",
   "id": "681a65ef",
   "metadata": {},
   "source": [
    "5.Try to print the following lines: Hello I am Sunny, My address is 22/3. I earn $20 daily."
   ]
  },
  {
   "cell_type": "code",
   "execution_count": 4,
   "id": "c14c414e",
   "metadata": {},
   "outputs": [],
   "source": [
    "a=\"Sunny\""
   ]
  },
  {
   "cell_type": "code",
   "execution_count": 5,
   "id": "3356588a",
   "metadata": {},
   "outputs": [],
   "source": [
    "b=\"22/3\""
   ]
  },
  {
   "cell_type": "code",
   "execution_count": 6,
   "id": "ffc12bdc",
   "metadata": {},
   "outputs": [],
   "source": [
    "c=\"$20\""
   ]
  },
  {
   "cell_type": "code",
   "execution_count": 8,
   "id": "22995bf6",
   "metadata": {},
   "outputs": [
    {
     "name": "stdout",
     "output_type": "stream",
     "text": [
      "Hello I am Sunny, my address is 22/3 and I earn $20 daily\n"
     ]
    }
   ],
   "source": [
    "print (f\"Hello I am {a}, my address is {b} and I earn {c} daily\")"
   ]
  },
  {
   "cell_type": "raw",
   "id": "3a999b44",
   "metadata": {},
   "source": [
    "6. Take user input to fil a form for your college and their email ids."
   ]
  },
  {
   "cell_type": "code",
   "execution_count": 9,
   "id": "b48ee258",
   "metadata": {},
   "outputs": [
    {
     "name": "stdout",
     "output_type": "stream",
     "text": [
      "Name: Siddha\n",
      "Year of Birth: 1994\n",
      "City:Pune\n"
     ]
    }
   ],
   "source": [
    "Name = input (\"Name: \")\n",
    "Year_of_Birth = input (\"Year of Birth: \")\n",
    "City = input (\"City:\")"
   ]
  },
  {
   "cell_type": "code",
   "execution_count": 10,
   "id": "9a245c5c",
   "metadata": {},
   "outputs": [
    {
     "name": "stdout",
     "output_type": "stream",
     "text": [
      "Email address: Siddha.Pune@gmail.com\n"
     ]
    }
   ],
   "source": [
    "print(f\"Email address: {Name}.{City}@gmail.com\")"
   ]
  },
  {
   "cell_type": "raw",
   "id": "5e187fb4",
   "metadata": {},
   "source": [
    "7. Convert the following:- a. \"22.4\" into 22. b. \"22\" into complex no."
   ]
  },
  {
   "cell_type": "code",
   "execution_count": 11,
   "id": "bdb05716",
   "metadata": {},
   "outputs": [],
   "source": [
    "a=\"22.4\""
   ]
  },
  {
   "cell_type": "code",
   "execution_count": 12,
   "id": "65f202b1",
   "metadata": {},
   "outputs": [
    {
     "data": {
      "text/plain": [
       "str"
      ]
     },
     "execution_count": 12,
     "metadata": {},
     "output_type": "execute_result"
    }
   ],
   "source": [
    "type(a)"
   ]
  },
  {
   "cell_type": "code",
   "execution_count": 17,
   "id": "7ba1d76b",
   "metadata": {},
   "outputs": [],
   "source": [
    "b= float(a)"
   ]
  },
  {
   "cell_type": "code",
   "execution_count": 18,
   "id": "75086889",
   "metadata": {},
   "outputs": [
    {
     "data": {
      "text/plain": [
       "22"
      ]
     },
     "execution_count": 18,
     "metadata": {},
     "output_type": "execute_result"
    }
   ],
   "source": [
    "int (b)"
   ]
  },
  {
   "cell_type": "code",
   "execution_count": 19,
   "id": "28110f46",
   "metadata": {},
   "outputs": [],
   "source": [
    "c =\"22\""
   ]
  },
  {
   "cell_type": "code",
   "execution_count": 20,
   "id": "4d298db1",
   "metadata": {},
   "outputs": [],
   "source": [
    "d=int(c)"
   ]
  },
  {
   "cell_type": "code",
   "execution_count": 22,
   "id": "91f0282d",
   "metadata": {},
   "outputs": [],
   "source": [
    "e=complex(d)"
   ]
  },
  {
   "cell_type": "code",
   "execution_count": 23,
   "id": "1cc0a800",
   "metadata": {},
   "outputs": [
    {
     "data": {
      "text/plain": [
       "complex"
      ]
     },
     "execution_count": 23,
     "metadata": {},
     "output_type": "execute_result"
    }
   ],
   "source": [
    "type(e)"
   ]
  },
  {
   "cell_type": "raw",
   "id": "6c32ca6f",
   "metadata": {},
   "source": [
    "END."
   ]
  }
 ],
 "metadata": {
  "kernelspec": {
   "display_name": "Python 3 (ipykernel)",
   "language": "python",
   "name": "python3"
  },
  "language_info": {
   "codemirror_mode": {
    "name": "ipython",
    "version": 3
   },
   "file_extension": ".py",
   "mimetype": "text/x-python",
   "name": "python",
   "nbconvert_exporter": "python",
   "pygments_lexer": "ipython3",
   "version": "3.9.12"
  }
 },
 "nbformat": 4,
 "nbformat_minor": 5
}
