{
 "cells": [
  {
   "cell_type": "code",
   "execution_count": 7,
   "id": "5a75159d",
   "metadata": {},
   "outputs": [
    {
     "name": "stdout",
     "output_type": "stream",
     "text": [
      "In the below elements which of them are values or an expression\n"
     ]
    }
   ],
   "source": [
    "print(\"In the below elements which of them are values or an expression\")"
   ]
  },
  {
   "cell_type": "code",
   "execution_count": 11,
   "id": "ec5a9f54",
   "metadata": {},
   "outputs": [
    {
     "name": "stdout",
     "output_type": "stream",
     "text": [
      "* is a mathematical operator\n"
     ]
    }
   ],
   "source": [
    "print(\"* is a mathematical operator\")"
   ]
  },
  {
   "cell_type": "code",
   "execution_count": 12,
   "id": "14cfab8a",
   "metadata": {},
   "outputs": [
    {
     "name": "stdout",
     "output_type": "stream",
     "text": [
      "hello is a string\n"
     ]
    }
   ],
   "source": [
    "print(\"hello is a string\")"
   ]
  },
  {
   "cell_type": "code",
   "execution_count": 13,
   "id": "f5696f14",
   "metadata": {},
   "outputs": [],
   "source": [
    "a=-87.8"
   ]
  },
  {
   "cell_type": "code",
   "execution_count": 14,
   "id": "9902076a",
   "metadata": {},
   "outputs": [
    {
     "data": {
      "text/plain": [
       "float"
      ]
     },
     "execution_count": 14,
     "metadata": {},
     "output_type": "execute_result"
    }
   ],
   "source": [
    "type (a)"
   ]
  },
  {
   "cell_type": "code",
   "execution_count": 39,
   "id": "f094ec56",
   "metadata": {},
   "outputs": [
    {
     "name": "stdout",
     "output_type": "stream",
     "text": [
      "-,/,+ are mathematical operators\n"
     ]
    }
   ],
   "source": [
    "print ('-,/,+ are mathematical operators')"
   ]
  },
  {
   "cell_type": "code",
   "execution_count": 16,
   "id": "6a185b52",
   "metadata": {},
   "outputs": [],
   "source": [
    "b=6"
   ]
  },
  {
   "cell_type": "code",
   "execution_count": 17,
   "id": "aa64a4f3",
   "metadata": {},
   "outputs": [
    {
     "data": {
      "text/plain": [
       "int"
      ]
     },
     "execution_count": 17,
     "metadata": {},
     "output_type": "execute_result"
    }
   ],
   "source": [
    "type (b)"
   ]
  },
  {
   "cell_type": "code",
   "execution_count": 18,
   "id": "a11c1cc8",
   "metadata": {},
   "outputs": [
    {
     "name": "stdout",
     "output_type": "stream",
     "text": [
      "what is the difference between a string and a variable\n"
     ]
    }
   ],
   "source": [
    "print(\"what is the difference between a string and a variable\")"
   ]
  },
  {
   "cell_type": "code",
   "execution_count": 19,
   "id": "af795a2c",
   "metadata": {},
   "outputs": [
    {
     "name": "stdout",
     "output_type": "stream",
     "text": [
      "a string is a set of characters, a variable is a character or a number that can hold any set of data of various data types\n"
     ]
    }
   ],
   "source": [
    "print(\"a string is a set of characters, a variable is a character or a number that can hold any set of data of various data types\")"
   ]
  },
  {
   "cell_type": "code",
   "execution_count": 20,
   "id": "3872860b",
   "metadata": {},
   "outputs": [],
   "source": [
    "a='hello'"
   ]
  },
  {
   "cell_type": "code",
   "execution_count": 23,
   "id": "04ef4db4",
   "metadata": {},
   "outputs": [],
   "source": [
    "olenna =45"
   ]
  },
  {
   "cell_type": "code",
   "execution_count": 24,
   "id": "3260b853",
   "metadata": {},
   "outputs": [
    {
     "data": {
      "text/plain": [
       "45"
      ]
     },
     "execution_count": 24,
     "metadata": {},
     "output_type": "execute_result"
    }
   ],
   "source": [
    "olenna"
   ]
  },
  {
   "cell_type": "code",
   "execution_count": 28,
   "id": "e96d5320",
   "metadata": {},
   "outputs": [],
   "source": [
    "a,olenna ='variable','variable'"
   ]
  },
  {
   "cell_type": "code",
   "execution_count": 33,
   "id": "613df5b5",
   "metadata": {},
   "outputs": [
    {
     "name": "stdout",
     "output_type": "stream",
     "text": [
      "describe three different data types\n"
     ]
    }
   ],
   "source": [
    "print (\"describe three different data types\")"
   ]
  },
  {
   "cell_type": "code",
   "execution_count": 34,
   "id": "f518b9a1",
   "metadata": {},
   "outputs": [],
   "source": [
    "b,c,d=True,8.8,4+9j"
   ]
  },
  {
   "cell_type": "code",
   "execution_count": 36,
   "id": "89ad58b8",
   "metadata": {},
   "outputs": [
    {
     "data": {
      "text/plain": [
       "bool"
      ]
     },
     "execution_count": 36,
     "metadata": {},
     "output_type": "execute_result"
    }
   ],
   "source": [
    "type(b)"
   ]
  },
  {
   "cell_type": "code",
   "execution_count": 37,
   "id": "15ce2c45",
   "metadata": {},
   "outputs": [
    {
     "data": {
      "text/plain": [
       "float"
      ]
     },
     "execution_count": 37,
     "metadata": {},
     "output_type": "execute_result"
    }
   ],
   "source": [
    "type (c)"
   ]
  },
  {
   "cell_type": "code",
   "execution_count": 38,
   "id": "952bdf2d",
   "metadata": {},
   "outputs": [
    {
     "data": {
      "text/plain": [
       "complex"
      ]
     },
     "execution_count": 38,
     "metadata": {},
     "output_type": "execute_result"
    }
   ],
   "source": [
    "type(d)"
   ]
  },
  {
   "cell_type": "code",
   "execution_count": 40,
   "id": "bb9ecd5a",
   "metadata": {},
   "outputs": [
    {
     "name": "stdout",
     "output_type": "stream",
     "text": [
      "what is an expression made up of, what do all expressions do?\n"
     ]
    }
   ],
   "source": [
    "print(\"what is an expression made up of, what do all expressions do?\")"
   ]
  },
  {
   "cell_type": "code",
   "execution_count": 41,
   "id": "3b24a0e9",
   "metadata": {},
   "outputs": [
    {
     "name": "stdout",
     "output_type": "stream",
     "text": [
      "expressions are a sequence or combinations of values, variables, operators, function that always produces a result value\n"
     ]
    }
   ],
   "source": [
    "print(\"expressions are a sequence or combinations of values, variables, operators, function that always produces a result value\")"
   ]
  },
  {
   "cell_type": "code",
   "execution_count": 54,
   "id": "53e9495e",
   "metadata": {},
   "outputs": [
    {
     "name": "stdout",
     "output_type": "stream",
     "text": [
      "expressions can be arithmetic, relational, combinational, etc for example x is equal to 10, x is equal to 4 plus 5 are all expression, an expression always evaluates something\n"
     ]
    }
   ],
   "source": [
    "print(\"expressions can be arithmetic, relational, combinational, etc for example x is equal to 10, x is equal to 4 plus 5 are all expression, an expression always evaluates something\")"
   ]
  },
  {
   "cell_type": "code",
   "execution_count": 51,
   "id": "53dc9cb9",
   "metadata": {},
   "outputs": [
    {
     "name": "stdout",
     "output_type": "stream",
     "text": [
      "What is the difference between an expression a statement\n"
     ]
    }
   ],
   "source": [
    "print (\"What is the difference between an expression a statement\")"
   ]
  },
  {
   "cell_type": "code",
   "execution_count": 52,
   "id": "e4041fe5",
   "metadata": {},
   "outputs": [
    {
     "name": "stdout",
     "output_type": "stream",
     "text": [
      "a statement is the instruction that any python interpretor can execute, here assigning the value 10 to the variable spam is a statement\n"
     ]
    }
   ],
   "source": [
    "print (\"a statement is the instruction that any python interpretor can execute, here assigning the value 10 to the variable spam is a statement\")"
   ]
  },
  {
   "cell_type": "code",
   "execution_count": 55,
   "id": "d0ea6858",
   "metadata": {},
   "outputs": [],
   "source": [
    "bacon=22"
   ]
  },
  {
   "cell_type": "code",
   "execution_count": 56,
   "id": "78518bc5",
   "metadata": {},
   "outputs": [
    {
     "data": {
      "text/plain": [
       "23"
      ]
     },
     "execution_count": 56,
     "metadata": {},
     "output_type": "execute_result"
    }
   ],
   "source": [
    "bacon+1"
   ]
  },
  {
   "cell_type": "code",
   "execution_count": 57,
   "id": "26136c86",
   "metadata": {},
   "outputs": [
    {
     "data": {
      "text/plain": [
       "'spamspamspam'"
      ]
     },
     "execution_count": 57,
     "metadata": {},
     "output_type": "execute_result"
    }
   ],
   "source": [
    "'spam'+'spamspam'"
   ]
  },
  {
   "cell_type": "code",
   "execution_count": 58,
   "id": "39c2c524",
   "metadata": {},
   "outputs": [
    {
     "data": {
      "text/plain": [
       "'spamspamspam'"
      ]
     },
     "execution_count": 58,
     "metadata": {},
     "output_type": "execute_result"
    }
   ],
   "source": [
    "'spam'*3"
   ]
  },
  {
   "cell_type": "code",
   "execution_count": 59,
   "id": "c1749722",
   "metadata": {},
   "outputs": [],
   "source": [
    "eggs=8976"
   ]
  },
  {
   "cell_type": "code",
   "execution_count": 60,
   "id": "2ef61b45",
   "metadata": {},
   "outputs": [],
   "source": [
    "eggs='hello'"
   ]
  },
  {
   "cell_type": "code",
   "execution_count": 62,
   "id": "c2883dda",
   "metadata": {},
   "outputs": [],
   "source": [
    "eggs=56+89j"
   ]
  },
  {
   "cell_type": "code",
   "execution_count": 63,
   "id": "877cdfe9",
   "metadata": {},
   "outputs": [
    {
     "ename": "SyntaxError",
     "evalue": "cannot assign to literal (2515707103.py, line 1)",
     "output_type": "error",
     "traceback": [
      "\u001b[0;36m  Input \u001b[0;32mIn [63]\u001b[0;36m\u001b[0m\n\u001b[0;31m    100='hello'\u001b[0m\n\u001b[0m    ^\u001b[0m\n\u001b[0;31mSyntaxError\u001b[0m\u001b[0;31m:\u001b[0m cannot assign to literal\n"
     ]
    }
   ],
   "source": [
    "100='hello'"
   ]
  },
  {
   "cell_type": "code",
   "execution_count": 64,
   "id": "91cbdb00",
   "metadata": {},
   "outputs": [
    {
     "name": "stdout",
     "output_type": "stream",
     "text": [
      "an integer cannot be used as a variable to assign another value to it\n"
     ]
    }
   ],
   "source": [
    "print('an integer cannot be used as a variable to assign another value to it')"
   ]
  },
  {
   "cell_type": "code",
   "execution_count": 68,
   "id": "44bcd3ac",
   "metadata": {},
   "outputs": [
    {
     "name": "stdout",
     "output_type": "stream",
     "text": [
      "467\n"
     ]
    }
   ],
   "source": [
    "a=input()"
   ]
  },
  {
   "cell_type": "code",
   "execution_count": 69,
   "id": "992b37ba",
   "metadata": {},
   "outputs": [
    {
     "data": {
      "text/plain": [
       "467"
      ]
     },
     "execution_count": 69,
     "metadata": {},
     "output_type": "execute_result"
    }
   ],
   "source": [
    "int(a)"
   ]
  },
  {
   "cell_type": "code",
   "execution_count": 70,
   "id": "c47d2f10",
   "metadata": {},
   "outputs": [
    {
     "data": {
      "text/plain": [
       "467.0"
      ]
     },
     "execution_count": 70,
     "metadata": {},
     "output_type": "execute_result"
    }
   ],
   "source": [
    "float(a)"
   ]
  },
  {
   "cell_type": "code",
   "execution_count": 71,
   "id": "a5c6ffbd",
   "metadata": {},
   "outputs": [
    {
     "data": {
      "text/plain": [
       "'467'"
      ]
     },
     "execution_count": 71,
     "metadata": {},
     "output_type": "execute_result"
    }
   ],
   "source": [
    "str(a)"
   ]
  },
  {
   "cell_type": "code",
   "execution_count": 73,
   "id": "f1ce79b7",
   "metadata": {},
   "outputs": [
    {
     "data": {
      "text/plain": [
       "'i have eaten99burritos'"
      ]
     },
     "execution_count": 73,
     "metadata": {},
     "output_type": "execute_result"
    }
   ],
   "source": [
    "'i have eaten'+ '99'+ 'burritos'"
   ]
  },
  {
   "cell_type": "code",
   "execution_count": null,
   "id": "6ea95cb5",
   "metadata": {},
   "outputs": [],
   "source": []
  }
 ],
 "metadata": {
  "kernelspec": {
   "display_name": "Python 3 (ipykernel)",
   "language": "python",
   "name": "python3"
  },
  "language_info": {
   "codemirror_mode": {
    "name": "ipython",
    "version": 3
   },
   "file_extension": ".py",
   "mimetype": "text/x-python",
   "name": "python",
   "nbconvert_exporter": "python",
   "pygments_lexer": "ipython3",
   "version": "3.9.12"
  }
 },
 "nbformat": 4,
 "nbformat_minor": 5
}
